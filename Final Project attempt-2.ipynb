{
 "cells": [
  {
   "cell_type": "markdown",
   "id": "74f0bf70",
   "metadata": {},
   "source": [
    "                                                     Visualising"
   ]
  },
  {
   "cell_type": "code",
   "execution_count": 505,
   "id": "2d7305e2",
   "metadata": {},
   "outputs": [],
   "source": [
    "import pandas as pd\n",
    "\n",
    "df = pd.read_csv (r'C:\\Users\\om\\Fakejob\\fake_job_postings.csv')\n"
   ]
  },
  {
   "cell_type": "code",
   "execution_count": 427,
   "id": "75eb0738",
   "metadata": {},
   "outputs": [
    {
     "data": {
      "text/html": [
       "<div>\n",
       "<style scoped>\n",
       "    .dataframe tbody tr th:only-of-type {\n",
       "        vertical-align: middle;\n",
       "    }\n",
       "\n",
       "    .dataframe tbody tr th {\n",
       "        vertical-align: top;\n",
       "    }\n",
       "\n",
       "    .dataframe thead th {\n",
       "        text-align: right;\n",
       "    }\n",
       "</style>\n",
       "<table border=\"1\" class=\"dataframe\">\n",
       "  <thead>\n",
       "    <tr style=\"text-align: right;\">\n",
       "      <th></th>\n",
       "      <th>job_id</th>\n",
       "      <th>title</th>\n",
       "      <th>location</th>\n",
       "      <th>department</th>\n",
       "      <th>salary_range</th>\n",
       "      <th>company_profile</th>\n",
       "      <th>description</th>\n",
       "      <th>requirements</th>\n",
       "      <th>benefits</th>\n",
       "      <th>telecommuting</th>\n",
       "      <th>has_company_logo</th>\n",
       "      <th>has_questions</th>\n",
       "      <th>employment_type</th>\n",
       "      <th>required_experience</th>\n",
       "      <th>required_education</th>\n",
       "      <th>industry</th>\n",
       "      <th>function</th>\n",
       "      <th>fraudulent</th>\n",
       "    </tr>\n",
       "  </thead>\n",
       "  <tbody>\n",
       "    <tr>\n",
       "      <th>0</th>\n",
       "      <td>1</td>\n",
       "      <td>Marketing Intern</td>\n",
       "      <td>US, NY, New York</td>\n",
       "      <td>Marketing</td>\n",
       "      <td>NaN</td>\n",
       "      <td>We're Food52, and we've created a groundbreaki...</td>\n",
       "      <td>Food52, a fast-growing, James Beard Award-winn...</td>\n",
       "      <td>Experience with content management systems a m...</td>\n",
       "      <td>NaN</td>\n",
       "      <td>0</td>\n",
       "      <td>1</td>\n",
       "      <td>0</td>\n",
       "      <td>Other</td>\n",
       "      <td>Internship</td>\n",
       "      <td>NaN</td>\n",
       "      <td>NaN</td>\n",
       "      <td>Marketing</td>\n",
       "      <td>0</td>\n",
       "    </tr>\n",
       "    <tr>\n",
       "      <th>1</th>\n",
       "      <td>2</td>\n",
       "      <td>Customer Service - Cloud Video Production</td>\n",
       "      <td>NZ, , Auckland</td>\n",
       "      <td>Success</td>\n",
       "      <td>NaN</td>\n",
       "      <td>90 Seconds, the worlds Cloud Video Production ...</td>\n",
       "      <td>Organised - Focused - Vibrant - Awesome!Do you...</td>\n",
       "      <td>What we expect from you:Your key responsibilit...</td>\n",
       "      <td>What you will get from usThrough being part of...</td>\n",
       "      <td>0</td>\n",
       "      <td>1</td>\n",
       "      <td>0</td>\n",
       "      <td>Full-time</td>\n",
       "      <td>Not Applicable</td>\n",
       "      <td>NaN</td>\n",
       "      <td>Marketing and Advertising</td>\n",
       "      <td>Customer Service</td>\n",
       "      <td>0</td>\n",
       "    </tr>\n",
       "    <tr>\n",
       "      <th>2</th>\n",
       "      <td>3</td>\n",
       "      <td>Commissioning Machinery Assistant (CMA)</td>\n",
       "      <td>US, IA, Wever</td>\n",
       "      <td>NaN</td>\n",
       "      <td>NaN</td>\n",
       "      <td>Valor Services provides Workforce Solutions th...</td>\n",
       "      <td>Our client, located in Houston, is actively se...</td>\n",
       "      <td>Implement pre-commissioning and commissioning ...</td>\n",
       "      <td>NaN</td>\n",
       "      <td>0</td>\n",
       "      <td>1</td>\n",
       "      <td>0</td>\n",
       "      <td>NaN</td>\n",
       "      <td>NaN</td>\n",
       "      <td>NaN</td>\n",
       "      <td>NaN</td>\n",
       "      <td>NaN</td>\n",
       "      <td>0</td>\n",
       "    </tr>\n",
       "    <tr>\n",
       "      <th>3</th>\n",
       "      <td>4</td>\n",
       "      <td>Account Executive - Washington DC</td>\n",
       "      <td>US, DC, Washington</td>\n",
       "      <td>Sales</td>\n",
       "      <td>NaN</td>\n",
       "      <td>Our passion for improving quality of life thro...</td>\n",
       "      <td>THE COMPANY: ESRI – Environmental Systems Rese...</td>\n",
       "      <td>EDUCATION: Bachelor’s or Master’s in GIS, busi...</td>\n",
       "      <td>Our culture is anything but corporate—we have ...</td>\n",
       "      <td>0</td>\n",
       "      <td>1</td>\n",
       "      <td>0</td>\n",
       "      <td>Full-time</td>\n",
       "      <td>Mid-Senior level</td>\n",
       "      <td>Bachelor's Degree</td>\n",
       "      <td>Computer Software</td>\n",
       "      <td>Sales</td>\n",
       "      <td>0</td>\n",
       "    </tr>\n",
       "    <tr>\n",
       "      <th>4</th>\n",
       "      <td>5</td>\n",
       "      <td>Bill Review Manager</td>\n",
       "      <td>US, FL, Fort Worth</td>\n",
       "      <td>NaN</td>\n",
       "      <td>NaN</td>\n",
       "      <td>SpotSource Solutions LLC is a Global Human Cap...</td>\n",
       "      <td>JOB TITLE: Itemization Review ManagerLOCATION:...</td>\n",
       "      <td>QUALIFICATIONS:RN license in the State of Texa...</td>\n",
       "      <td>Full Benefits Offered</td>\n",
       "      <td>0</td>\n",
       "      <td>1</td>\n",
       "      <td>1</td>\n",
       "      <td>Full-time</td>\n",
       "      <td>Mid-Senior level</td>\n",
       "      <td>Bachelor's Degree</td>\n",
       "      <td>Hospital &amp; Health Care</td>\n",
       "      <td>Health Care Provider</td>\n",
       "      <td>0</td>\n",
       "    </tr>\n",
       "  </tbody>\n",
       "</table>\n",
       "</div>"
      ],
      "text/plain": [
       "   job_id                                      title            location  \\\n",
       "0       1                           Marketing Intern    US, NY, New York   \n",
       "1       2  Customer Service - Cloud Video Production      NZ, , Auckland   \n",
       "2       3    Commissioning Machinery Assistant (CMA)       US, IA, Wever   \n",
       "3       4          Account Executive - Washington DC  US, DC, Washington   \n",
       "4       5                        Bill Review Manager  US, FL, Fort Worth   \n",
       "\n",
       "  department salary_range                                    company_profile  \\\n",
       "0  Marketing          NaN  We're Food52, and we've created a groundbreaki...   \n",
       "1    Success          NaN  90 Seconds, the worlds Cloud Video Production ...   \n",
       "2        NaN          NaN  Valor Services provides Workforce Solutions th...   \n",
       "3      Sales          NaN  Our passion for improving quality of life thro...   \n",
       "4        NaN          NaN  SpotSource Solutions LLC is a Global Human Cap...   \n",
       "\n",
       "                                         description  \\\n",
       "0  Food52, a fast-growing, James Beard Award-winn...   \n",
       "1  Organised - Focused - Vibrant - Awesome!Do you...   \n",
       "2  Our client, located in Houston, is actively se...   \n",
       "3  THE COMPANY: ESRI – Environmental Systems Rese...   \n",
       "4  JOB TITLE: Itemization Review ManagerLOCATION:...   \n",
       "\n",
       "                                        requirements  \\\n",
       "0  Experience with content management systems a m...   \n",
       "1  What we expect from you:Your key responsibilit...   \n",
       "2  Implement pre-commissioning and commissioning ...   \n",
       "3  EDUCATION: Bachelor’s or Master’s in GIS, busi...   \n",
       "4  QUALIFICATIONS:RN license in the State of Texa...   \n",
       "\n",
       "                                            benefits  telecommuting  \\\n",
       "0                                                NaN              0   \n",
       "1  What you will get from usThrough being part of...              0   \n",
       "2                                                NaN              0   \n",
       "3  Our culture is anything but corporate—we have ...              0   \n",
       "4                              Full Benefits Offered              0   \n",
       "\n",
       "   has_company_logo  has_questions employment_type required_experience  \\\n",
       "0                 1              0           Other          Internship   \n",
       "1                 1              0       Full-time      Not Applicable   \n",
       "2                 1              0             NaN                 NaN   \n",
       "3                 1              0       Full-time    Mid-Senior level   \n",
       "4                 1              1       Full-time    Mid-Senior level   \n",
       "\n",
       "  required_education                   industry              function  \\\n",
       "0                NaN                        NaN             Marketing   \n",
       "1                NaN  Marketing and Advertising      Customer Service   \n",
       "2                NaN                        NaN                   NaN   \n",
       "3  Bachelor's Degree          Computer Software                 Sales   \n",
       "4  Bachelor's Degree     Hospital & Health Care  Health Care Provider   \n",
       "\n",
       "   fraudulent  \n",
       "0           0  \n",
       "1           0  \n",
       "2           0  \n",
       "3           0  \n",
       "4           0  "
      ]
     },
     "execution_count": 427,
     "metadata": {},
     "output_type": "execute_result"
    }
   ],
   "source": [
    "df.head()"
   ]
  },
  {
   "cell_type": "code",
   "execution_count": 428,
   "id": "bd378880",
   "metadata": {},
   "outputs": [
    {
     "data": {
      "text/html": [
       "<div>\n",
       "<style scoped>\n",
       "    .dataframe tbody tr th:only-of-type {\n",
       "        vertical-align: middle;\n",
       "    }\n",
       "\n",
       "    .dataframe tbody tr th {\n",
       "        vertical-align: top;\n",
       "    }\n",
       "\n",
       "    .dataframe thead th {\n",
       "        text-align: right;\n",
       "    }\n",
       "</style>\n",
       "<table border=\"1\" class=\"dataframe\">\n",
       "  <thead>\n",
       "    <tr style=\"text-align: right;\">\n",
       "      <th></th>\n",
       "      <th>job_id</th>\n",
       "      <th>telecommuting</th>\n",
       "      <th>has_company_logo</th>\n",
       "      <th>has_questions</th>\n",
       "      <th>fraudulent</th>\n",
       "    </tr>\n",
       "  </thead>\n",
       "  <tbody>\n",
       "    <tr>\n",
       "      <th>count</th>\n",
       "      <td>17880.000000</td>\n",
       "      <td>17880.000000</td>\n",
       "      <td>17880.000000</td>\n",
       "      <td>17880.000000</td>\n",
       "      <td>17880.000000</td>\n",
       "    </tr>\n",
       "    <tr>\n",
       "      <th>mean</th>\n",
       "      <td>8940.500000</td>\n",
       "      <td>0.042897</td>\n",
       "      <td>0.795302</td>\n",
       "      <td>0.491723</td>\n",
       "      <td>0.048434</td>\n",
       "    </tr>\n",
       "    <tr>\n",
       "      <th>std</th>\n",
       "      <td>5161.655742</td>\n",
       "      <td>0.202631</td>\n",
       "      <td>0.403492</td>\n",
       "      <td>0.499945</td>\n",
       "      <td>0.214688</td>\n",
       "    </tr>\n",
       "    <tr>\n",
       "      <th>min</th>\n",
       "      <td>1.000000</td>\n",
       "      <td>0.000000</td>\n",
       "      <td>0.000000</td>\n",
       "      <td>0.000000</td>\n",
       "      <td>0.000000</td>\n",
       "    </tr>\n",
       "    <tr>\n",
       "      <th>25%</th>\n",
       "      <td>4470.750000</td>\n",
       "      <td>0.000000</td>\n",
       "      <td>1.000000</td>\n",
       "      <td>0.000000</td>\n",
       "      <td>0.000000</td>\n",
       "    </tr>\n",
       "    <tr>\n",
       "      <th>50%</th>\n",
       "      <td>8940.500000</td>\n",
       "      <td>0.000000</td>\n",
       "      <td>1.000000</td>\n",
       "      <td>0.000000</td>\n",
       "      <td>0.000000</td>\n",
       "    </tr>\n",
       "    <tr>\n",
       "      <th>75%</th>\n",
       "      <td>13410.250000</td>\n",
       "      <td>0.000000</td>\n",
       "      <td>1.000000</td>\n",
       "      <td>1.000000</td>\n",
       "      <td>0.000000</td>\n",
       "    </tr>\n",
       "    <tr>\n",
       "      <th>max</th>\n",
       "      <td>17880.000000</td>\n",
       "      <td>1.000000</td>\n",
       "      <td>1.000000</td>\n",
       "      <td>1.000000</td>\n",
       "      <td>1.000000</td>\n",
       "    </tr>\n",
       "  </tbody>\n",
       "</table>\n",
       "</div>"
      ],
      "text/plain": [
       "             job_id  telecommuting  has_company_logo  has_questions  \\\n",
       "count  17880.000000   17880.000000      17880.000000   17880.000000   \n",
       "mean    8940.500000       0.042897          0.795302       0.491723   \n",
       "std     5161.655742       0.202631          0.403492       0.499945   \n",
       "min        1.000000       0.000000          0.000000       0.000000   \n",
       "25%     4470.750000       0.000000          1.000000       0.000000   \n",
       "50%     8940.500000       0.000000          1.000000       0.000000   \n",
       "75%    13410.250000       0.000000          1.000000       1.000000   \n",
       "max    17880.000000       1.000000          1.000000       1.000000   \n",
       "\n",
       "         fraudulent  \n",
       "count  17880.000000  \n",
       "mean       0.048434  \n",
       "std        0.214688  \n",
       "min        0.000000  \n",
       "25%        0.000000  \n",
       "50%        0.000000  \n",
       "75%        0.000000  \n",
       "max        1.000000  "
      ]
     },
     "execution_count": 428,
     "metadata": {},
     "output_type": "execute_result"
    }
   ],
   "source": [
    "df.describe()"
   ]
  },
  {
   "cell_type": "code",
   "execution_count": 429,
   "id": "c013b2ef",
   "metadata": {},
   "outputs": [
    {
     "name": "stdout",
     "output_type": "stream",
     "text": [
      "<class 'pandas.core.frame.DataFrame'>\n",
      "RangeIndex: 17880 entries, 0 to 17879\n",
      "Data columns (total 18 columns):\n",
      " #   Column               Non-Null Count  Dtype \n",
      "---  ------               --------------  ----- \n",
      " 0   job_id               17880 non-null  int64 \n",
      " 1   title                17880 non-null  object\n",
      " 2   location             17534 non-null  object\n",
      " 3   department           6333 non-null   object\n",
      " 4   salary_range         2868 non-null   object\n",
      " 5   company_profile      14572 non-null  object\n",
      " 6   description          17879 non-null  object\n",
      " 7   requirements         15185 non-null  object\n",
      " 8   benefits             10670 non-null  object\n",
      " 9   telecommuting        17880 non-null  int64 \n",
      " 10  has_company_logo     17880 non-null  int64 \n",
      " 11  has_questions        17880 non-null  int64 \n",
      " 12  employment_type      14409 non-null  object\n",
      " 13  required_experience  10830 non-null  object\n",
      " 14  required_education   9775 non-null   object\n",
      " 15  industry             12977 non-null  object\n",
      " 16  function             11425 non-null  object\n",
      " 17  fraudulent           17880 non-null  int64 \n",
      "dtypes: int64(5), object(13)\n",
      "memory usage: 2.5+ MB\n"
     ]
    }
   ],
   "source": [
    "df.info()"
   ]
  },
  {
   "cell_type": "code",
   "execution_count": 430,
   "id": "fc3e58ba",
   "metadata": {},
   "outputs": [
    {
     "data": {
      "text/plain": [
       "job_id                     0\n",
       "title                      0\n",
       "location                 346\n",
       "department             11547\n",
       "salary_range           15012\n",
       "company_profile         3308\n",
       "description                1\n",
       "requirements            2695\n",
       "benefits                7210\n",
       "telecommuting              0\n",
       "has_company_logo           0\n",
       "has_questions              0\n",
       "employment_type         3471\n",
       "required_experience     7050\n",
       "required_education      8105\n",
       "industry                4903\n",
       "function                6455\n",
       "fraudulent                 0\n",
       "dtype: int64"
      ]
     },
     "execution_count": 430,
     "metadata": {},
     "output_type": "execute_result"
    }
   ],
   "source": [
    "df.isna().sum()"
   ]
  },
  {
   "cell_type": "code",
   "execution_count": 431,
   "id": "7c4fbab3",
   "metadata": {},
   "outputs": [],
   "source": [
    "import seaborn as sns\n",
    "import matplotlib.pyplot as plt\n",
    "import plotly.graph_objects as go\n",
    "from plotly.subplots import make_subplots\n",
    "import re\n",
    "import nltk\n",
    "from nltk.corpus import stopwords\n",
    "from sklearn.model_selection import train_test_split\n",
    "from keras.preprocessing.text import Tokenizer\n",
    "from keras.preprocessing import sequence,text\n",
    "from sklearn.preprocessing import LabelEncoder\n",
    "from sklearn.neighbors import KNeighborsClassifier\n",
    "from sklearn.model_selection import cross_val_score\n",
    "import nltk\n",
    "from sklearn.preprocessing import MinMaxScaler\n",
    "import numpy as np\n",
    "from sklearn import metrics\n",
    "from tensorflow import keras\n",
    "from tensorflow.keras import layers\n",
    "from tensorflow.keras.preprocessing.text import Tokenizer\n",
    "from tensorflow.keras.preprocessing.sequence import pad_sequences\n",
    "import tensorflow as tf\n",
    "from sklearn.svm import SVC\n",
    "from sklearn.ensemble import RandomForestClassifier"
   ]
  },
  {
   "cell_type": "code",
   "execution_count": 432,
   "id": "dcbda5b4",
   "metadata": {},
   "outputs": [
    {
     "data": {
      "text/plain": [
       "<AxesSubplot:>"
      ]
     },
     "execution_count": 432,
     "metadata": {},
     "output_type": "execute_result"
    },
    {
     "data": {
      "image/png": "[encoded data removed]",
      "text/plain": [
       "<Figure size 864x576 with 1 Axes>"
      ]
     },
     "metadata": {
      "needs_background": "light"
     },
     "output_type": "display_data"
    }
   ],
   "source": [
    "plt.figure(figsize=(12,8))\n",
    "sns.heatmap(df.isnull(), yticklabels=False, cbar=False)"
   ]
  },
  {
   "cell_type": "code",
   "execution_count": 433,
   "id": "a068369e",
   "metadata": {},
   "outputs": [],
   "source": [
    "df.fillna('',inplace=True)"
   ]
  },
  {
   "cell_type": "code",
   "execution_count": 434,
   "id": "aa0beb3a",
   "metadata": {},
   "outputs": [
    {
     "data": {
      "text/plain": [
       "<AxesSubplot:>"
      ]
     },
     "execution_count": 434,
     "metadata": {},
     "output_type": "execute_result"
    },
    {
     "data": {
      "image/png": "[encoded data removed]",
      "text/plain": [
       "<Figure size 864x720 with 1 Axes>"
      ]
     },
     "metadata": {
      "needs_background": "light"
     },
     "output_type": "display_data"
    }
   ],
   "source": [
    "plt.figure(figsize=(12,10))\n",
    "sns.heatmap(df.isnull(), yticklabels=False, cbar=False)"
   ]
  },
  {
   "cell_type": "code",
   "execution_count": 435,
   "id": "92f3fb29",
   "metadata": {},
   "outputs": [
    {
     "data": {
      "text/plain": [
       "<AxesSubplot:xlabel='fraudulent', ylabel='count'>"
      ]
     },
     "execution_count": 435,
     "metadata": {},
     "output_type": "execute_result"
    },
    {
     "data": {
      "image/png": "[encoded data removed]",
      "text/plain": [
       "<Figure size 864x576 with 1 Axes>"
      ]
     },
     "metadata": {
      "needs_background": "light"
     },
     "output_type": "display_data"
    }
   ],
   "source": [
    "fig = plt.figure(figsize = (12,8))\n",
    "ax = fig.gca()\n",
    "sns.countplot(x=\"fraudulent\", data=df,ax=ax)"
   ]
  },
  {
   "cell_type": "code",
   "execution_count": 436,
   "id": "936fe1c4",
   "metadata": {},
   "outputs": [],
   "source": [
    "df['text'] = df['title'].str.cat(df[['location', 'department','salary_range','company_profile','description','requirements',\n",
    "                                    'benefits','employment_type','required_education','industry',\n",
    "                                    'function']].astype(str), sep=' ')"
   ]
  },
  {
   "cell_type": "code",
   "execution_count": 437,
   "id": "8c860e72",
   "metadata": {},
   "outputs": [
    {
     "data": {
      "text/plain": [
       "\"Marketing Intern US, NY, New York Marketing  We're Food52, and we've created a groundbreaking and award-winning cooking site. We support, connect, and celebrate home cooks, and give them everything they need in one place.We have a top editorial, business, and engineering team. We're focused on using technology to find new and better ways to connect people around their specific food interests, and to offer them superb, highly curated information about food and cooking. We attract the most talented home cooks and contributors in the country; we also publish well-known professionals like Mario Batali, Gwyneth Paltrow, and Danny Meyer. And we have partnerships with Whole Foods Market and Random House.Food52 has been named the best food website by the James Beard Foundation and IACP, and has been featured in the New York Times, NPR, Pando Daily, TechCrunch, and on the Today Show.We're located in Chelsea, in New York City. Food52, a fast-growing, James Beard Award-winning online food community and crowd-sourced and curated recipe hub, is currently interviewing full- and part-time unpaid interns to work in a small team of editors, executives, and developers in its New York City headquarters.Reproducing and/or repackaging existing Food52 content for a number of partner sites, such as Huffington Post, Yahoo, Buzzfeed, and more in their various content management systemsResearching blogs and websites for the Provisions by Food52 Affiliate ProgramAssisting in day-to-day affiliate program support, such as screening affiliates and assisting in any affiliate inquiriesSupporting with PR &amp; Events when neededHelping with office administrative work, such as filing, mailing, and preparing for meetingsWorking with developers to document bugs and suggest improvements to the siteSupporting the marketing and executive staff Experience with content management systems a major plus (any blogging counts!)Familiar with the Food52 editorial voice and aestheticLoves food, appreciates the importance of home cooking and cooking with the seasonsMeticulous editor, perfectionist, obsessive attention to detail, maddened by typos and broken links, delighted by finding and fixing themCheerful under pressureExcellent communication skillsA+ multi-tasker and juggler of responsibilities big and smallInterested in and engaged with social media like Twitter, Facebook, and PinterestLoves problem-solving and collaborating to drive Food52 forwardThinks big picture but pitches in on the nitty gritty of running a small company (dishes, shopping, administrative support)Comfortable with the realities of working for a startup: being on call on evenings and weekends, and working long hours  Other   Marketing\""
      ]
     },
     "execution_count": 437,
     "metadata": {},
     "output_type": "execute_result"
    }
   ],
   "source": [
    "df['text'][0]"
   ]
  },
  {
   "cell_type": "code",
   "execution_count": 438,
   "id": "22367c4b",
   "metadata": {},
   "outputs": [],
   "source": [
    "df[\"text_length\"]=df[\"text\"].str.len()"
   ]
  },
  {
   "cell_type": "code",
   "execution_count": 439,
   "id": "98d6616d",
   "metadata": {},
   "outputs": [
    {
     "data": {
      "image/png": "[encoded data removed]",
      "text/plain": [
       "<Figure size 864x576 with 1 Axes>"
      ]
     },
     "metadata": {
      "needs_background": "light"
     },
     "output_type": "display_data"
    }
   ],
   "source": [
    "fig = plt.figure(figsize = (12,8))\n",
    "ax = fig.gca()\n",
    "sns.histplot(x=df[df[\"fraudulent\"]==1][\"text_length\"],kde=True,ax=ax)\n",
    "sns.histplot(x=df[df[\"fraudulent\"]==0][\"text_length\"],kde=True,color=\"black\",ax=ax);"
   ]
  },
  {
   "cell_type": "code",
   "execution_count": 440,
   "id": "c2837977",
   "metadata": {},
   "outputs": [
    {
     "data": {
      "text/plain": [
       "<BarContainer object of 10 artists>"
      ]
     },
     "execution_count": 440,
     "metadata": {},
     "output_type": "execute_result"
    },
    {
     "data": {
      "image/png": "[encoded data removed]",
      "text/plain": [
       "<Figure size 432x288 with 1 Axes>"
      ]
     },
     "metadata": {
      "needs_background": "light"
     },
     "output_type": "display_data"
    }
   ],
   "source": [
    "pos_={}\n",
    "for text in df[df[\"fraudulent\"]==1][\"text\"]:\n",
    "    text=text.split()\n",
    "    for word in text:\n",
    "        if word in pos_:\n",
    "            pos_[word]+=1\n",
    "        else:\n",
    "            pos_[word]=1\n",
    "        \n",
    "pos=pd.DataFrame(sorted(pos_.items(),key=lambda x: x[1],reverse=True))\n",
    "plt.barh(pos[0][:10],pos[1][:10])"
   ]
  },
  {
   "cell_type": "code",
   "execution_count": 441,
   "id": "7002d8fb",
   "metadata": {},
   "outputs": [],
   "source": [
    "df.text = df.text.apply(lambda x: x.lower())"
   ]
  },
  {
   "cell_type": "code",
   "execution_count": 445,
   "id": "bc19ae42",
   "metadata": {},
   "outputs": [
    {
     "name": "stderr",
     "output_type": "stream",
     "text": [
      "[nltk_data] Downloading package stopwords to\n",
      "[nltk_data]     C:\\Users\\om\\AppData\\Roaming\\nltk_data...\n",
      "[nltk_data]   Package stopwords is already up-to-date!\n",
      "C:\\Users\\om\\AppData\\Local\\Temp/ipykernel_20216/3137147613.py:5: FutureWarning: The default value of regex will change from True to False in a future version.\n",
      "  df['text'] = df['text'].str.replace(\"[^a-zA-Z#]\", \" \")\n"
     ]
    }
   ],
   "source": [
    "nltk.download('stopwords')\n",
    "stop = stopwords.words('english')\n",
    "df['text'] = df['text'].apply(lambda x: ' '.join([word for word in x.split() if word not in (stop)]))\n",
    "df['text'] = df['text'].str.replace(\"[^a-zA-Z#]\", \" \")\n",
    "df['text'] = df['text'].apply(lambda x: ' '.join([w for w in x.split() if len(w)>3]))"
   ]
  },
  {
   "cell_type": "code",
   "execution_count": 446,
   "id": "427a058b",
   "metadata": {},
   "outputs": [
    {
     "data": {
      "text/plain": [
       "<BarContainer object of 10 artists>"
      ]
     },
     "execution_count": 446,
     "metadata": {},
     "output_type": "execute_result"
    },
    {
     "data": {
      "image/png": "[encoded data removed]",
      "text/plain": [
       "<Figure size 432x288 with 1 Axes>"
      ]
     },
     "metadata": {
      "needs_background": "light"
     },
     "output_type": "display_data"
    }
   ],
   "source": [
    "pos_={}\n",
    "for text in df[df[\"fraudulent\"]==1][\"text\"]:\n",
    "    text=text.split()\n",
    "    for word in text:\n",
    "        if word in pos_:\n",
    "            pos_[word]+=1\n",
    "        else:\n",
    "            pos_[word]=1\n",
    "        \n",
    "pos=pd.DataFrame(sorted(pos_.items(),key=lambda x: x[1],reverse=True))\n",
    "plt.barh(pos[0][:10],pos[1][:10])"
   ]
  },
  {
   "cell_type": "code",
   "execution_count": 447,
   "id": "9fcaea3d",
   "metadata": {},
   "outputs": [
    {
     "data": {
      "text/plain": [
       "<BarContainer object of 10 artists>"
      ]
     },
     "execution_count": 447,
     "metadata": {},
     "output_type": "execute_result"
    },
    {
     "data": {
      "image/png": "[encoded data removed]",
      "text/plain": [
       "<Figure size 432x288 with 1 Axes>"
      ]
     },
     "metadata": {
      "needs_background": "light"
     },
     "output_type": "display_data"
    }
   ],
   "source": [
    "pos_r={}\n",
    "for text in df[df[\"fraudulent\"]==0][\"text\"]:\n",
    "    text=text.split()\n",
    "    for word in text:\n",
    "        if word in pos_r:\n",
    "            pos_r[word]+=1\n",
    "        else:\n",
    "            pos_r[word]=1\n",
    "        \n",
    "posr=pd.DataFrame(sorted(pos_r.items(),key=lambda x: x[1],reverse=True))\n",
    "plt.barh(posr[0][:10],posr[1][:10])"
   ]
  },
  {
   "cell_type": "markdown",
   "id": "422a259e",
   "metadata": {},
   "source": [
    "                                                    Pre-Processing"
   ]
  },
  {
   "cell_type": "code",
   "execution_count": 448,
   "id": "c16b346e",
   "metadata": {},
   "outputs": [
    {
     "data": {
      "text/plain": [
       "job_id                 549\n",
       "title                  549\n",
       "location               549\n",
       "department             549\n",
       "salary_range           549\n",
       "company_profile        549\n",
       "description            549\n",
       "requirements           549\n",
       "benefits               549\n",
       "telecommuting          549\n",
       "has_company_logo       549\n",
       "has_questions          549\n",
       "employment_type        549\n",
       "required_experience    549\n",
       "required_education     549\n",
       "industry               549\n",
       "function               549\n",
       "fraudulent             549\n",
       "text                   549\n",
       "text_length            549\n",
       "dtype: int64"
      ]
     },
     "execution_count": 448,
     "metadata": {},
     "output_type": "execute_result"
    }
   ],
   "source": [
    "df[df.text.duplicated()].count()"
   ]
  },
  {
   "cell_type": "code",
   "execution_count": 449,
   "id": "f44618de",
   "metadata": {},
   "outputs": [
    {
     "name": "stdout",
     "output_type": "stream",
     "text": [
      "17880\n"
     ]
    }
   ],
   "source": [
    "df = df.drop_duplicates(keep='first')\n",
    "print(len(df))\n",
    "df.reset_index(drop=True, inplace=True)"
   ]
  },
  {
   "cell_type": "code",
   "execution_count": 450,
   "id": "e053ae4e",
   "metadata": {},
   "outputs": [],
   "source": [
    "num_max = 1000000\n",
    "max_len = 400\n",
    "token = Tokenizer(num_words=num_max)\n",
    "token.fit_on_texts(df.text)\n",
    "vocab_size=len(token.word_index)"
   ]
  },
  {
   "cell_type": "code",
   "execution_count": 451,
   "id": "e897613b",
   "metadata": {},
   "outputs": [],
   "source": [
    "text_seq = token.texts_to_sequences(df.text)"
   ]
  },
  {
   "cell_type": "code",
   "execution_count": 452,
   "id": "e08ad065",
   "metadata": {},
   "outputs": [
    {
     "data": {
      "text/plain": [
       "array([[1.61246977e-04, 1.27198188e-02, 3.53398642e-03, ...,\n",
       "        0.00000000e+00, 0.00000000e+00, 0.00000000e+00],\n",
       "       [3.59043268e-02, 2.03905491e-03, 1.07416001e-04, ...,\n",
       "        3.05914774e-03, 9.69117457e-05, 3.80600261e-04],\n",
       "       [4.78473529e-02, 2.71873989e-02, 5.22041763e-03, ...,\n",
       "        0.00000000e+00, 0.00000000e+00, 0.00000000e+00],\n",
       "       ...,\n",
       "       [5.26740124e-04, 3.22580645e-03, 3.59843602e-03, ...,\n",
       "        0.00000000e+00, 0.00000000e+00, 0.00000000e+00],\n",
       "       [1.21365224e-02, 5.43747977e-03, 2.03832603e-01, ...,\n",
       "        0.00000000e+00, 0.00000000e+00, 0.00000000e+00],\n",
       "       [2.14995969e-05, 4.89804725e-03, 3.42657042e-03, ...,\n",
       "        1.33995727e-03, 2.58431322e-04, 1.60395824e-03]])"
      ]
     },
     "execution_count": 452,
     "metadata": {},
     "output_type": "execute_result"
    }
   ],
   "source": [
    "text_mat = sequence.pad_sequences(text_seq,maxlen=max_len,padding='post')\n",
    "X=MinMaxScaler().fit_transform(text_mat)\n",
    "X"
   ]
  },
  {
   "cell_type": "markdown",
   "id": "1086b4f5",
   "metadata": {},
   "source": [
    "                                                 Splitting"
   ]
  },
  {
   "cell_type": "code",
   "execution_count": 453,
   "id": "49f2c3d3",
   "metadata": {},
   "outputs": [],
   "source": [
    "x = df['text']\n",
    "y = df['fraudulent']\n",
    "\n",
    "#split it into training and test sets\n",
    "X_train, X_test, y_train, y_test = train_test_split(x, y, test_size=0.2, random_state=42)\n",
    "\n",
    "#encoding\n",
    "encoder = LabelEncoder()\n",
    "y_train = encoder.fit_transform(y_train)\n",
    "y_test = encoder.fit_transform(y_test)\n",
    "\n",
    "#vectorization\n",
    "MAX = 2000\n",
    "vectorizer = TfidfVectorizer(max_features = MAX)\n",
    "vectorizer.fit(X_train)\n",
    "\n",
    "x_trainvec = vectorizer.transform(X_train)\n",
    "x_testvec = vectorizer.transform(X_test)"
   ]
  },
  {
   "cell_type": "code",
   "execution_count": 454,
   "id": "41ba31d8",
   "metadata": {},
   "outputs": [],
   "source": [
    "X_traina,X_testa,y_traina,y_testa=train_test_split(X,df.fraudulent,test_size=0.20, random_state=122)"
   ]
  },
  {
   "cell_type": "markdown",
   "id": "3856425d",
   "metadata": {},
   "source": [
    "                                                    KNN"
   ]
  },
  {
   "cell_type": "code",
   "execution_count": 501,
   "id": "31f72bc0",
   "metadata": {},
   "outputs": [],
   "source": [
    "neighbors = list(range(1,15,2))\n",
    "scores_ = {}\n",
    "mean_score={}\n",
    "\n",
    "for item in neighbors:\n",
    "    knn = KNeighborsClassifier(n_neighbors=item)\n",
    "    knn.fit(x_trainvec, y_train)\n",
    "    pred_knn = knn.predict(x_testvec)\n",
    "    scores = accuracy_score(pred_knn,y_test)\n",
    "    scores_[item]=scores\n",
    "\n",
    "    \n",
    "# for key, value in scores_.items():\n",
    "#     ms=np.mean(list(scores_[key]))\n",
    "#     mean_score[key]=ms\n",
    "# mean_score"
   ]
  },
  {
   "cell_type": "code",
   "execution_count": 502,
   "id": "25e867d8",
   "metadata": {},
   "outputs": [
    {
     "data": {
      "text/plain": [
       "{1: 0.9815436241610739,\n",
       " 3: 0.9804250559284117,\n",
       " 5: 0.9793064876957495,\n",
       " 7: 0.9807046979865772,\n",
       " 9: 0.9798657718120806,\n",
       " 11: 0.9781879194630873,\n",
       " 13: 0.9751118568232662}"
      ]
     },
     "execution_count": 502,
     "metadata": {},
     "output_type": "execute_result"
    }
   ],
   "source": [
    "scores_"
   ]
  },
  {
   "cell_type": "code",
   "execution_count": 457,
   "id": "532f7067",
   "metadata": {},
   "outputs": [
    {
     "data": {
      "text/plain": [
       "0.9815436241610739"
      ]
     },
     "execution_count": 457,
     "metadata": {},
     "output_type": "execute_result"
    }
   ],
   "source": [
    "max_key = max(scores_, key=scores_.get) \n",
    "max_key\n",
    "knn_best_accuracy=scores_[max_key]\n",
    "knn_best_accuracy"
   ]
  },
  {
   "cell_type": "code",
   "execution_count": 459,
   "id": "94f0eca2",
   "metadata": {},
   "outputs": [],
   "source": [
    "max_key = max(scores_, key=scores_.get) \n",
    "max_key\n",
    "knn_best_accuracy=scores_[max_key]"
   ]
  },
  {
   "cell_type": "code",
   "execution_count": 460,
   "id": "d3af3f72",
   "metadata": {},
   "outputs": [
    {
     "data": {
      "text/plain": [
       "<Figure size 432x288 with 0 Axes>"
      ]
     },
     "metadata": {},
     "output_type": "display_data"
    },
    {
     "data": {
      "image/png": "[encoded data removed]",
      "text/plain": [
       "<Figure size 864x576 with 1 Axes>"
      ]
     },
     "metadata": {
      "needs_background": "light"
     },
     "output_type": "display_data"
    }
   ],
   "source": [
    "plt.figure()\n",
    "plt.figure(figsize=(12,8))\n",
    "plt.title('Comparing number of neighbors and their accuracy', fontsize=18)\n",
    "plt.xlabel('Number of Neighbors', fontsize=14)\n",
    "plt.ylabel('Accuracy', fontsize=14)\n",
    "plt.xticks(np.arange(1,15,2), np.arange(1,15,2))\n",
    "plt.plot(neighbors, scores_.values())\n",
    "plt.show()"
   ]
  },
  {
   "cell_type": "code",
   "execution_count": 503,
   "id": "69700f94",
   "metadata": {},
   "outputs": [
    {
     "name": "stdout",
     "output_type": "stream",
     "text": [
      "Classification Report of KNN:\n",
      "               precision    recall  f1-score   support\n",
      "\n",
      "           0       0.98      0.99      0.99      3395\n",
      "           1       0.86      0.61      0.71       181\n",
      "\n",
      "    accuracy                           0.98      3576\n",
      "   macro avg       0.92      0.80      0.85      3576\n",
      "weighted avg       0.97      0.98      0.97      3576\n",
      " \n",
      "\n"
     ]
    }
   ],
   "source": [
    "print(\"Classification Report of KNN:\\n\", metrics.classification_report(y_test, pred_knn), \"\\n\")"
   ]
  },
  {
   "cell_type": "markdown",
   "id": "a65a97de",
   "metadata": {},
   "source": [
    "                                                      ANN"
   ]
  },
  {
   "cell_type": "code",
   "execution_count": 463,
   "id": "084da5e6",
   "metadata": {},
   "outputs": [
    {
     "name": "stdout",
     "output_type": "stream",
     "text": [
      "Model: \"sequential_25\"\n",
      "_________________________________________________________________\n",
      " Layer (type)                Output Shape              Param #   \n",
      "=================================================================\n",
      " embedding_25 (Embedding)    (None, 400, 15)           1397730   \n",
      "                                                                 \n",
      " dropout_25 (Dropout)        (None, 400, 15)           0         \n",
      "                                                                 \n",
      " conv1d_25 (Conv1D)          (None, 396, 64)           4864      \n",
      "                                                                 \n",
      " max_pooling1d_25 (MaxPoolin  (None, 99, 64)           0         \n",
      " g1D)                                                            \n",
      "                                                                 \n",
      " bidirectional_25 (Bidirecti  (None, 128)              66048     \n",
      " onal)                                                           \n",
      "                                                                 \n",
      " dense_25 (Dense)            (None, 1)                 129       \n",
      "                                                                 \n",
      "=================================================================\n",
      "Total params: 1,468,771\n",
      "Trainable params: 1,468,771\n",
      "Non-trainable params: 0\n",
      "_________________________________________________________________\n",
      "Epoch 1/5\n",
      "447/447 - 59s - loss: 0.2040 - accuracy: 0.9511 - 59s/epoch - 133ms/step\n",
      "Epoch 2/5\n",
      "447/447 - 57s - loss: 0.1965 - accuracy: 0.9511 - 57s/epoch - 128ms/step\n",
      "Epoch 3/5\n",
      "447/447 - 57s - loss: 0.1956 - accuracy: 0.9511 - 57s/epoch - 128ms/step\n",
      "Epoch 4/5\n",
      "447/447 - 62s - loss: 0.1958 - accuracy: 0.9511 - 62s/epoch - 140ms/step\n",
      "Epoch 5/5\n",
      "447/447 - 58s - loss: 0.1961 - accuracy: 0.9511 - 58s/epoch - 131ms/step\n"
     ]
    }
   ],
   "source": [
    "model1 = tf.keras.Sequential([\n",
    "    tf.keras.layers.Embedding(vocab_size+1, 15, input_length=400),\n",
    "    tf.keras.layers.Dropout(0.3),\n",
    "    tf.keras.layers.Conv1D(64, 5, activation='relu'),\n",
    "    tf.keras.layers.MaxPooling1D(pool_size=4),\n",
    "    tf.keras.layers.Bidirectional(tf.keras.layers.LSTM(64)),\n",
    "    tf.keras.layers.Dense(1, activation='sigmoid')\n",
    "])\n",
    "ab=model1.compile(loss='binary_crossentropy',optimizer='adam',metrics=['accuracy'])\n",
    "model1.summary()\n",
    "\n",
    "num_epochs = 5\n",
    "\n",
    "model1_train = model1.fit(X_traina, y_traina, epochs=num_epochs, verbose=2)"
   ]
  },
  {
   "cell_type": "code",
   "execution_count": 464,
   "id": "2b991514",
   "metadata": {},
   "outputs": [
    {
     "name": "stdout",
     "output_type": "stream",
     "text": [
      "112/112 [==============================] - 6s 45ms/step - loss: 0.1890 - accuracy: 0.9533\n"
     ]
    }
   ],
   "source": [
    "model1_acc=model1.evaluate(X_testa, y_testa)"
   ]
  },
  {
   "cell_type": "code",
   "execution_count": 465,
   "id": "235f35b8",
   "metadata": {},
   "outputs": [
    {
     "name": "stdout",
     "output_type": "stream",
     "text": [
      "Model: \"sequential_26\"\n",
      "_________________________________________________________________\n",
      " Layer (type)                Output Shape              Param #   \n",
      "=================================================================\n",
      " embedding_26 (Embedding)    (None, 400, 15)           1397730   \n",
      "                                                                 \n",
      " dropout_26 (Dropout)        (None, 400, 15)           0         \n",
      "                                                                 \n",
      " conv1d_26 (Conv1D)          (None, 396, 64)           4864      \n",
      "                                                                 \n",
      " max_pooling1d_26 (MaxPoolin  (None, 99, 64)           0         \n",
      " g1D)                                                            \n",
      "                                                                 \n",
      " bidirectional_26 (Bidirecti  (None, 128)              66048     \n",
      " onal)                                                           \n",
      "                                                                 \n",
      " dense_26 (Dense)            (None, 1)                 129       \n",
      "                                                                 \n",
      "=================================================================\n",
      "Total params: 1,468,771\n",
      "Trainable params: 1,468,771\n",
      "Non-trainable params: 0\n",
      "_________________________________________________________________\n",
      "Epoch 1/10\n",
      "430/430 - 61s - loss: 0.2062 - accuracy: 0.9492 - val_loss: 0.2020 - val_accuracy: 0.9490 - 61s/epoch - 141ms/step\n",
      "Epoch 2/10\n",
      "430/430 - 58s - loss: 0.1953 - accuracy: 0.9514 - val_loss: 0.2041 - val_accuracy: 0.9490 - 58s/epoch - 136ms/step\n",
      "Epoch 3/10\n",
      "430/430 - 58s - loss: 0.1952 - accuracy: 0.9514 - val_loss: 0.2020 - val_accuracy: 0.9490 - 58s/epoch - 135ms/step\n",
      "Epoch 4/10\n",
      "430/430 - 58s - loss: 0.1952 - accuracy: 0.9514 - val_loss: 0.2026 - val_accuracy: 0.9490 - 58s/epoch - 134ms/step\n",
      "Epoch 5/10\n",
      "430/430 - 58s - loss: 0.1951 - accuracy: 0.9514 - val_loss: 0.2045 - val_accuracy: 0.9490 - 58s/epoch - 135ms/step\n",
      "Epoch 6/10\n",
      "430/430 - 58s - loss: 0.1951 - accuracy: 0.9514 - val_loss: 0.2015 - val_accuracy: 0.9490 - 58s/epoch - 135ms/step\n",
      "Epoch 7/10\n",
      "430/430 - 58s - loss: 0.1951 - accuracy: 0.9514 - val_loss: 0.2018 - val_accuracy: 0.9490 - 58s/epoch - 136ms/step\n",
      "Epoch 8/10\n",
      "430/430 - 58s - loss: 0.1949 - accuracy: 0.9514 - val_loss: 0.2015 - val_accuracy: 0.9490 - 58s/epoch - 134ms/step\n",
      "Epoch 9/10\n",
      "430/430 - 58s - loss: 0.1949 - accuracy: 0.9514 - val_loss: 0.2023 - val_accuracy: 0.9490 - 58s/epoch - 134ms/step\n",
      "Epoch 10/10\n",
      "430/430 - 58s - loss: 0.1946 - accuracy: 0.9514 - val_loss: 0.2017 - val_accuracy: 0.9490 - 58s/epoch - 135ms/step\n"
     ]
    }
   ],
   "source": [
    "model2 = tf.keras.Sequential([\n",
    "    tf.keras.layers.Embedding(vocab_size+1, 15, input_length=400),\n",
    "    tf.keras.layers.Dropout(0.3),\n",
    "    tf.keras.layers.Conv1D(64, 5, activation='relu'),\n",
    "    tf.keras.layers.MaxPooling1D(pool_size=4),\n",
    "    tf.keras.layers.Bidirectional(tf.keras.layers.LSTM(64)),\n",
    "    tf.keras.layers.Dense(1, activation='sigmoid')\n",
    "])\n",
    "model2.compile(loss='binary_crossentropy',optimizer='adam',metrics=['accuracy'])\n",
    "model2.summary()\n",
    "\n",
    "num_epochs = 10\n",
    "model2_train = model2.fit(X_traina, y_traina, epochs=num_epochs, verbose=2,validation_split=0.1, batch_size=30, shuffle=True)\n"
   ]
  },
  {
   "cell_type": "code",
   "execution_count": 466,
   "id": "c3f39771",
   "metadata": {},
   "outputs": [
    {
     "name": "stdout",
     "output_type": "stream",
     "text": [
      "112/112 [==============================] - 5s 44ms/step - loss: 0.1901 - accuracy: 0.9533\n"
     ]
    }
   ],
   "source": [
    "model2_acc=model2.evaluate(X_testa, y_testa)"
   ]
  },
  {
   "cell_type": "code",
   "execution_count": 467,
   "id": "0a8252cd",
   "metadata": {},
   "outputs": [
    {
     "data": {
      "text/plain": [
       "{'loss': [0.20615504682064056,\n",
       "  0.19532914459705353,\n",
       "  0.19522491097450256,\n",
       "  0.19519762694835663,\n",
       "  0.19506904482841492,\n",
       "  0.19508537650108337,\n",
       "  0.19508016109466553,\n",
       "  0.19485661387443542,\n",
       "  0.19486838579177856,\n",
       "  0.19456039369106293],\n",
       " 'accuracy': [0.9491959810256958,\n",
       "  0.9513710737228394,\n",
       "  0.9513710737228394,\n",
       "  0.9513710737228394,\n",
       "  0.9513710737228394,\n",
       "  0.9513710737228394,\n",
       "  0.9513710737228394,\n",
       "  0.9513710737228394,\n",
       "  0.9513710737228394,\n",
       "  0.9513710737228394],\n",
       " 'val_loss': [0.20197276771068573,\n",
       "  0.2041216939687729,\n",
       "  0.20200152695178986,\n",
       "  0.2026255875825882,\n",
       "  0.20448017120361328,\n",
       "  0.20148783922195435,\n",
       "  0.20178209245204926,\n",
       "  0.20150616765022278,\n",
       "  0.2023448348045349,\n",
       "  0.20168186724185944],\n",
       " 'val_accuracy': [0.9489867091178894,\n",
       "  0.9489867091178894,\n",
       "  0.9489867091178894,\n",
       "  0.9489867091178894,\n",
       "  0.9489867091178894,\n",
       "  0.9489867091178894,\n",
       "  0.9489867091178894,\n",
       "  0.9489867091178894,\n",
       "  0.9489867091178894,\n",
       "  0.9489867091178894]}"
      ]
     },
     "execution_count": 467,
     "metadata": {},
     "output_type": "execute_result"
    }
   ],
   "source": [
    "model2_train.history"
   ]
  },
  {
   "cell_type": "code",
   "execution_count": 468,
   "id": "decd9da9",
   "metadata": {},
   "outputs": [
    {
     "data": {
      "text/plain": [
       "<matplotlib.legend.Legend at 0x2ccae3f7fd0>"
      ]
     },
     "execution_count": 468,
     "metadata": {},
     "output_type": "execute_result"
    },
    {
     "data": {
      "image/png": "[encoded data removed]",
      "text/plain": [
       "<Figure size 864x360 with 2 Axes>"
      ]
     },
     "metadata": {
      "needs_background": "light"
     },
     "output_type": "display_data"
    }
   ],
   "source": [
    "acc = model2_train.history['accuracy']\n",
    "val_acc = model2_train.history['val_accuracy']\n",
    "loss = model2_train.history['loss']\n",
    "val_loss = model2_train.history['val_loss']\n",
    "x = range(1, len(acc) + 1)\n",
    "\n",
    "plt.figure(figsize=(12, 5))\n",
    "plt.subplot(1, 2, 1)\n",
    "plt.plot(x, acc, 'b', label='Training acc')\n",
    "plt.plot(x, val_acc, 'r', label='Validation acc')\n",
    "plt.title('Training and validation accuracy')\n",
    "plt.legend()\n",
    "plt.subplot(1, 2, 2)\n",
    "plt.plot(x, loss, 'b', label='Training loss')\n",
    "plt.plot(x, val_loss, 'r', label='Validation loss')\n",
    "plt.title('Training and validation loss')\n",
    "plt.legend()"
   ]
  },
  {
   "cell_type": "code",
   "execution_count": 469,
   "id": "869969c8",
   "metadata": {},
   "outputs": [
    {
     "data": {
      "image/png": "[encoded data removed]",
      "text/plain": [
       "<Figure size 864x576 with 1 Axes>"
      ]
     },
     "metadata": {
      "needs_background": "light"
     },
     "output_type": "display_data"
    }
   ],
   "source": [
    "data = {'Model1':model1_acc[1],'Model2':model2_acc[1]}\n",
    "courses = list(data.keys())\n",
    "values = list(data.values())  \n",
    "fig = plt.figure(figsize = (12, 8))\n",
    "plt.bar(courses, values, color ='black',\n",
    "        width = 0.3)\n",
    " \n",
    "plt.xlabel(\"Model\")\n",
    "plt.ylabel(\"Accuracy of the model\")\n",
    "plt.title(\"Comparision of accuracies of two models\")\n",
    "plt.show()"
   ]
  },
  {
   "cell_type": "code",
   "execution_count": 470,
   "id": "7f43ca72",
   "metadata": {},
   "outputs": [
    {
     "data": {
      "text/plain": [
       "0.9532997608184814"
      ]
     },
     "execution_count": 470,
     "metadata": {},
     "output_type": "execute_result"
    }
   ],
   "source": [
    "ann_best_acc=max(model1_acc[1],model2_acc[1])\n",
    "ann_best_acc"
   ]
  },
  {
   "cell_type": "markdown",
   "id": "4646e6e2",
   "metadata": {},
   "source": [
    "                                                 Naive-Bayes"
   ]
  },
  {
   "cell_type": "code",
   "execution_count": 471,
   "id": "fbbf3965",
   "metadata": {},
   "outputs": [],
   "source": [
    "from sklearn.naive_bayes import MultinomialNB\n",
    "from sklearn.naive_bayes import GaussianNB\n",
    "from sklearn.metrics import accuracy_score,f1_score"
   ]
  },
  {
   "cell_type": "code",
   "execution_count": 497,
   "id": "7aa5c23a",
   "metadata": {},
   "outputs": [
    {
     "name": "stderr",
     "output_type": "stream",
     "text": [
      "C:\\Users\\om\\anaconda3\\lib\\site-packages\\sklearn\\naive_bayes.py:508: UserWarning: alpha too small will result in numeric errors, setting alpha = 1.0e-10\n",
      "  warnings.warn('alpha too small will result in numeric errors, '\n",
      "C:\\Users\\om\\anaconda3\\lib\\site-packages\\sklearn\\naive_bayes.py:508: UserWarning: alpha too small will result in numeric errors, setting alpha = 1.0e-10\n",
      "  warnings.warn('alpha too small will result in numeric errors, '\n",
      "C:\\Users\\om\\anaconda3\\lib\\site-packages\\sklearn\\naive_bayes.py:508: UserWarning: alpha too small will result in numeric errors, setting alpha = 1.0e-10\n",
      "  warnings.warn('alpha too small will result in numeric errors, '\n",
      "C:\\Users\\om\\anaconda3\\lib\\site-packages\\sklearn\\naive_bayes.py:508: UserWarning: alpha too small will result in numeric errors, setting alpha = 1.0e-10\n",
      "  warnings.warn('alpha too small will result in numeric errors, '\n"
     ]
    }
   ],
   "source": [
    "alpha_set=['0.0001','0.001','0.01','0.1','1','10','100','1000']\n",
    "acc={}\n",
    "for i in alpha_set:\n",
    "    model_n=MultinomialNB(alpha=int(float(i)))\n",
    "    model_n.fit(x_trainvec, y_train)\n",
    "    model_n_pred =  model_n.predict(x_testvec)\n",
    "    acc[i] = accuracy_score(y_test, model_n_pred)"
   ]
  },
  {
   "cell_type": "code",
   "execution_count": 491,
   "id": "0db27c19",
   "metadata": {},
   "outputs": [
    {
     "data": {
      "text/plain": [
       "{'0.0001': 0.9686800894854586,\n",
       " '0.001': 0.9686800894854586,\n",
       " '0.01': 0.9686800894854586,\n",
       " '0.1': 0.9686800894854586,\n",
       " '1': 0.9602908277404921,\n",
       " '10': 0.9493847874720358,\n",
       " '100': 0.9493847874720358,\n",
       " '1000': 0.9493847874720358}"
      ]
     },
     "execution_count": 491,
     "metadata": {},
     "output_type": "execute_result"
    }
   ],
   "source": [
    "acc"
   ]
  },
  {
   "cell_type": "code",
   "execution_count": 498,
   "id": "4e1aec1b",
   "metadata": {},
   "outputs": [
    {
     "name": "stderr",
     "output_type": "stream",
     "text": [
      "C:\\Users\\om\\anaconda3\\lib\\site-packages\\sklearn\\naive_bayes.py:508: UserWarning: alpha too small will result in numeric errors, setting alpha = 1.0e-10\n",
      "  warnings.warn('alpha too small will result in numeric errors, '\n"
     ]
    }
   ],
   "source": [
    "max_key = max(acc, key=acc.get) \n",
    "max_key\n",
    "nb_best_accuracy=acc[max_key]\n",
    "nb_best_accuracy\n",
    "model_n=MultinomialNB(alpha=int(float(max_key)))\n",
    "model_n.fit(x_trainvec, y_train)\n",
    "model_n_pred =  model_n.predict(x_testvec)\n",
    "acc[i] = accuracy_score(y_test, model_n_pred)"
   ]
  },
  {
   "cell_type": "code",
   "execution_count": 499,
   "id": "20fdde1c",
   "metadata": {},
   "outputs": [
    {
     "name": "stdout",
     "output_type": "stream",
     "text": [
      "              precision    recall  f1-score   support\n",
      "\n",
      "           0       0.97      1.00      0.98      3395\n",
      "           1       0.95      0.40      0.57       181\n",
      "\n",
      "    accuracy                           0.97      3576\n",
      "   macro avg       0.96      0.70      0.77      3576\n",
      "weighted avg       0.97      0.97      0.96      3576\n",
      "\n"
     ]
    }
   ],
   "source": [
    "from sklearn import metrics\n",
    "print(metrics.classification_report(y_test, model_n_pred))"
   ]
  },
  {
   "cell_type": "code",
   "execution_count": 492,
   "id": "07f2127c",
   "metadata": {},
   "outputs": [
    {
     "data": {
      "image/png": "[encoded data removed]",
      "text/plain": [
       "<Figure size 864x576 with 1 Axes>"
      ]
     },
     "metadata": {
      "needs_background": "light"
     },
     "output_type": "display_data"
    }
   ],
   "source": [
    "courses = list(acc.keys())\n",
    "values = list(acc.values())  \n",
    "fig = plt.figure(figsize = (12, 8))\n",
    "plt.plot(courses, values, color ='black')\n",
    "plt.xlabel(\"Smoothing values\")\n",
    "plt.ylabel(\"Accuracy\")\n",
    "plt.title(\"Comparision of smoothing and accuracies\")\n",
    "plt.show()"
   ]
  },
  {
   "cell_type": "markdown",
   "id": "aa0319c2",
   "metadata": {},
   "source": [
    "                                                 Random Forest"
   ]
  },
  {
   "cell_type": "code",
   "execution_count": 481,
   "id": "9a74f2c2",
   "metadata": {},
   "outputs": [
    {
     "data": {
      "text/plain": [
       "0.9779082774049217"
      ]
     },
     "execution_count": 481,
     "metadata": {},
     "output_type": "execute_result"
    }
   ],
   "source": [
    "model_r=RandomForestClassifier()\n",
    "model_r.fit(x_trainvec,y_train)\n",
    "pred_r=model_r.predict(x_testvec)\n",
    "score_r=accuracy_score(y_test,pred_r)\n",
    "score_r"
   ]
  },
  {
   "cell_type": "code",
   "execution_count": 482,
   "id": "8cfd0697",
   "metadata": {},
   "outputs": [
    {
     "name": "stdout",
     "output_type": "stream",
     "text": [
      "              precision    recall  f1-score   support\n",
      "\n",
      "           0       0.98      1.00      0.99      3395\n",
      "           1       1.00      0.56      0.72       181\n",
      "\n",
      "    accuracy                           0.98      3576\n",
      "   macro avg       0.99      0.78      0.85      3576\n",
      "weighted avg       0.98      0.98      0.97      3576\n",
      "\n"
     ]
    }
   ],
   "source": [
    "print(metrics.classification_report(y_test, pred_r))"
   ]
  },
  {
   "cell_type": "markdown",
   "id": "0d65f5f4",
   "metadata": {},
   "source": [
    "                                                    SVM"
   ]
  },
  {
   "cell_type": "code",
   "execution_count": 483,
   "id": "9d392b7c",
   "metadata": {},
   "outputs": [
    {
     "name": "stdout",
     "output_type": "stream",
     "text": [
      "Accuracy Score of SVC : 0.9807046979865772\n"
     ]
    }
   ],
   "source": [
    "svc = SVC(kernel = 'rbf')\n",
    "svc.fit(x_trainvec, y_train)\n",
    "pred_svc = svc.predict(x_testvec)\n",
    "print(\"Accuracy Score of SVC :\", accuracy_score(pred_svc, y_test)) "
   ]
  },
  {
   "cell_type": "code",
   "execution_count": 484,
   "id": "f5a1eb1a",
   "metadata": {},
   "outputs": [
    {
     "name": "stdout",
     "output_type": "stream",
     "text": [
      "Classification Report of SVC:\n",
      "               precision    recall  f1-score   support\n",
      "\n",
      "           0       0.98      1.00      0.99      3395\n",
      "           1       1.00      0.62      0.76       181\n",
      "\n",
      "    accuracy                           0.98      3576\n",
      "   macro avg       0.99      0.81      0.88      3576\n",
      "weighted avg       0.98      0.98      0.98      3576\n",
      " \n",
      "\n"
     ]
    }
   ],
   "source": [
    "print(\"Classification Report of SVC:\\n\", metrics.classification_report(y_test, pred_svc,zero_division=1), \"\\n\")"
   ]
  },
  {
   "cell_type": "code",
   "execution_count": 508,
   "id": "9eb6e60c",
   "metadata": {},
   "outputs": [
    {
     "data": {
      "image/png": "[encoded data removed]",
      "text/plain": [
       "<Figure size 864x576 with 1 Axes>"
      ]
     },
     "metadata": {
      "needs_background": "light"
     },
     "output_type": "display_data"
    }
   ],
   "source": [
    "data = {'KNN':knn_best_accuracy,'ANN':ann_best_acc,'NBC':nb_best_accuracy,'RFC':score_r,'SVM':accuracy_score(pred_svc, y_test)}\n",
    "courses = list(data.keys())\n",
    "values = list(data.values())  \n",
    "fig = plt.figure(figsize = (12, 8))\n",
    "plt.bar(courses, values, color ='black',\n",
    "        width = 0.2)\n",
    "plt.xlabel(\"Models\")\n",
    "plt.ylabel(\"Accuracy of the models\")\n",
    "plt.title(\"Comparision of accuracies of all models\")\n",
    "plt.show()"
   ]
  },
  {
   "cell_type": "code",
   "execution_count": 500,
   "id": "834a09b9",
   "metadata": {},
   "outputs": [
    {
     "name": "stdout",
     "output_type": "stream",
     "text": [
      "Classification Report of KNN:\n",
      "               precision    recall  f1-score   support\n",
      "\n",
      "           0       0.98      0.99      0.99      3395\n",
      "           1       0.88      0.71      0.79       181\n",
      "\n",
      "    accuracy                           0.98      3576\n",
      "   macro avg       0.93      0.85      0.89      3576\n",
      "weighted avg       0.98      0.98      0.98      3576\n",
      " \n",
      "\n",
      "Classification Report of NB:\n",
      "               precision    recall  f1-score   support\n",
      "\n",
      "           0       0.97      1.00      0.98      3395\n",
      "           1       0.95      0.40      0.57       181\n",
      "\n",
      "    accuracy                           0.97      3576\n",
      "   macro avg       0.96      0.70      0.77      3576\n",
      "weighted avg       0.97      0.97      0.96      3576\n",
      " \n",
      "\n",
      "Classification Report of RFC:\n",
      "               precision    recall  f1-score   support\n",
      "\n",
      "           0       0.98      1.00      0.99      3395\n",
      "           1       1.00      0.56      0.72       181\n",
      "\n",
      "    accuracy                           0.98      3576\n",
      "   macro avg       0.99      0.78      0.85      3576\n",
      "weighted avg       0.98      0.98      0.97      3576\n",
      " \n",
      "\n",
      "Classification Report of SVC:\n",
      "               precision    recall  f1-score   support\n",
      "\n",
      "           0       0.98      1.00      0.99      3395\n",
      "           1       1.00      0.62      0.76       181\n",
      "\n",
      "    accuracy                           0.98      3576\n",
      "   macro avg       0.99      0.81      0.88      3576\n",
      "weighted avg       0.98      0.98      0.98      3576\n",
      " \n",
      "\n"
     ]
    }
   ],
   "source": [
    "print(\"Classification Report of KNN:\\n\", metrics.classification_report(y_test, pred_knn), \"\\n\")\n",
    "print(\"Classification Report of NB:\\n\",metrics.classification_report(y_test, model_n_pred),\"\\n\")\n",
    "print(\"Classification Report of RFC:\\n\",metrics.classification_report(y_test, pred_r),\"\\n\")\n",
    "print(\"Classification Report of SVC:\\n\", metrics.classification_report(y_test, pred_svc,zero_division=1), \"\\n\")"
   ]
  },
  {
   "cell_type": "code",
   "execution_count": null,
   "id": "3b61541d",
   "metadata": {},
   "outputs": [],
   "source": []
  }
 ],
 "metadata": {
  "kernelspec": {
   "display_name": "Python 3 (ipykernel)",
   "language": "python",
   "name": "python3"
  },
  "language_info": {
   "codemirror_mode": {
    "name": "ipython",
    "version": 3
   },
   "file_extension": ".py",
   "mimetype": "text/x-python",
   "name": "python",
   "nbconvert_exporter": "python",
   "pygments_lexer": "ipython3",
   "version": "3.9.7"
  }
 },
 "nbformat": 4,
 "nbformat_minor": 5
}
